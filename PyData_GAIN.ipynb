{
  "nbformat": 4,
  "nbformat_minor": 0,
  "metadata": {
    "colab": {
      "name": "PyData_GAIN.ipynb",
      "provenance": [],
      "authorship_tag": "ABX9TyPX9O1t4bShxtaDL410hgx8",
      "include_colab_link": true
    },
    "kernelspec": {
      "name": "python3",
      "display_name": "Python 3"
    },
    "accelerator": "GPU"
  },
  "cells": [
    {
      "cell_type": "markdown",
      "metadata": {
        "id": "view-in-github",
        "colab_type": "text"
      },
      "source": [
        "<a href=\"https://colab.research.google.com/github/bezhvin/PyData2020-Eindhoven/blob/main/PyData_GAIN.ipynb\" target=\"_parent\"><img src=\"https://colab.research.google.com/assets/colab-badge.svg\" alt=\"Open In Colab\"/></a>"
      ]
    },
    {
      "cell_type": "markdown",
      "metadata": {
        "id": "8p18EIDkP-Zt"
      },
      "source": [
        "This is the implemetation of Generative Adversarial Imputation Nets (GAIN) with tensorflow 2.x and Keras\n"
      ]
    },
    {
      "cell_type": "code",
      "metadata": {
        "id": "VtsJ2sVRPAMo"
      },
      "source": [
        "%tensorflow_version 2.x"
      ],
      "execution_count": null,
      "outputs": []
    },
    {
      "cell_type": "code",
      "metadata": {
        "id": "lnp7hgPKPIws"
      },
      "source": [
        "import numpy as np\n",
        "import matplotlib.pyplot as plt\n",
        "import matplotlib.gridspec as gridspec\n",
        "import tensorflow as tf\n",
        "from tensorflow import keras\n",
        "from keras.models import Sequential\n",
        "from keras.layers import Dense\n",
        "import tensorflow.keras.backend as KB\n",
        "from sklearn.metrics import mean_squared_error"
      ],
      "execution_count": null,
      "outputs": []
    },
    {
      "cell_type": "code",
      "metadata": {
        "id": "f_zizC_iPMPj"
      },
      "source": [
        "def plot(samples, strategy):\n",
        "    fig = plt.figure(figsize = (5,5))\n",
        "    gs = gridspec.GridSpec(5,5)\n",
        "    gs.update(wspace=0.05, hspace=0.05)\n",
        "    \n",
        "    for i, sample in enumerate(samples):\n",
        "        ax = plt.subplot(gs[i])\n",
        "        plt.axis('off')\n",
        "        ax.set_xticklabels([])\n",
        "        ax.set_yticklabels([])\n",
        "        ax.set_aspect('equal')\n",
        "        plt.imshow(sample.reshape(28,28))\n",
        "    fig.suptitle(f'{strategy} imputation')    \n",
        "    return fig"
      ],
      "execution_count": null,
      "outputs": []
    },
    {
      "cell_type": "code",
      "metadata": {
        "id": "Fm34XzZiPRNk"
      },
      "source": [
        "(x_train, y_train), (x_test, y_test) = tf.keras.datasets.mnist.load_data(path='mnist.npz')\n",
        "Dim = x_train.shape[1] * x_train.shape[2]\n",
        "x_train=x_train.reshape((x_train.shape[0],Dim))\n",
        "x_train = x_train / x_train.max()\n",
        "x_test=x_test.reshape((x_test.shape[0],Dim))\n",
        "x_test = x_test / x_test.max()\n",
        "y_train = tf.one_hot(y_train, 10)\n",
        "y_test = tf.one_hot(y_test, 10)\n",
        "\n",
        "p_hint = 0.9\n",
        "mb_size= 128\n",
        "Train_No, D = x_train.shape"
      ],
      "execution_count": null,
      "outputs": []
    },
    {
      "cell_type": "code",
      "metadata": {
        "id": "dm8tBE1DPSEs"
      },
      "source": [
        "def induce_missingness(data, p_missing=0.2):\n",
        "  new_data= np.copy(data)\n",
        "  A = np.random.uniform(0., 1., size = [data.shape[0], data.shape[1]])\n",
        "  B = A < p_missing\n",
        "  new_data[B] = np.nan\n",
        "  return new_data\n",
        "\n",
        "def make_noise_mask_hint(data, p_hint=0.9):\n",
        "  # noise of the same size as data\n",
        "  Z = np.random.uniform(0,1,[data.shape[0], data.shape[1]])\n",
        "  #mask to show what element is missing\n",
        "  mask = 1. * np.invert(np.isnan(data))\n",
        "  # hint vector (refer to teh paper)\n",
        "  A = np.random.uniform(0., 1., size = [data.shape[0], data.shape[1]])\n",
        "  B = A > (1- p_hint)\n",
        "  C = 1. * B\n",
        "  hint = C * mask + (1-C) * 0.5\n",
        "  return Z, mask, hint, C\n",
        "\n",
        "x_train_miss = induce_missingness(x_train)\n",
        "x_test_miss = induce_missingness(x_test)\n",
        "\n",
        "noise_train, mask_train, hint_train, B_train = make_noise_mask_hint(x_train_miss)\n",
        "noise_test, mask_test, hint_test, B_test = make_noise_mask_hint(x_test_miss)\n",
        "\n"
      ],
      "execution_count": null,
      "outputs": []
    },
    {
      "cell_type": "code",
      "metadata": {
        "id": "CfUb0uJYU8m8"
      },
      "source": [
        ""
      ],
      "execution_count": null,
      "outputs": []
    },
    {
      "cell_type": "markdown",
      "metadata": {
        "id": "rV6i6EJ7U9J_"
      },
      "source": [
        "Making generator and discriminator\n"
      ]
    },
    {
      "cell_type": "code",
      "metadata": {
        "id": "0l5KXI-UU7a1"
      },
      "source": [
        "def make_generator(gen_inp_dim, gen_out_dim):\n",
        "  generator = Sequential(name='generator')\n",
        "  generator.add(Dense(units = 256, input_dim=gen_inp_dim, activation=tf.nn.leaky_relu ))\n",
        "  generator.add(Dense(units = 128, activation=tf.nn.leaky_relu))\n",
        "  generator.add(Dense(units=gen_out_dim, activation=tf.nn.sigmoid))\n",
        "  return generator\n",
        "\n",
        "def make_discriminator(disc_inp_dim, disc_out_dim):\n",
        "  discriminator = Sequential(name='discriminator')\n",
        "  discriminator.add(Dense(units = 256, input_dim=disc_inp_dim, activation=tf.nn.leaky_relu ))\n",
        "  discriminator.add(Dense(units = 128, activation=tf.nn.leaky_relu))\n",
        "  discriminator.add(Dense(units=disc_out_dim, activation=tf.nn.sigmoid))\n",
        "  return discriminator"
      ],
      "execution_count": null,
      "outputs": []
    },
    {
      "cell_type": "code",
      "metadata": {
        "id": "bIUXFu9lRC41"
      },
      "source": [
        "# data pipeline\n",
        "train_data = tf.data.Dataset.from_tensor_slices((x_train,y_train,mask_train, noise_train,hint_train, B_train)).repeat(10).shuffle(Train_No).batch(mb_size)"
      ],
      "execution_count": null,
      "outputs": []
    },
    {
      "cell_type": "code",
      "metadata": {
        "id": "ftw95lC9UopE"
      },
      "source": [
        "## generator imput:\n",
        "def make_gen_inp(x,m, z):\n",
        "  y =  m * x + (1-m) * z \n",
        "  return tf.concat([y,m], axis=-1)\n",
        "## discriminator input\n",
        "def make_disc_inp(x,m, g, h):\n",
        "  y =  m * x + (1-m) * g \n",
        "  return tf.concat([y,h], axis=-1)\n",
        "\n",
        "def initialize_models():\n",
        "  g_in = make_gen_inp(x_train, mask_train, noise_train)\n",
        "  generator = make_generator(g_in.shape[1],x_train.shape[1])\n",
        "  g_out = generator(g_in)\n",
        "  d_in = make_disc_inp(x_train, mask_train, g_out, hint_train)\n",
        "  discriminator = make_discriminator(d_in.shape[1],hint_train.shape[1])\n",
        "  return discriminator, generator"
      ],
      "execution_count": null,
      "outputs": []
    },
    {
      "cell_type": "markdown",
      "metadata": {
        "id": "VeOc283FVTO5"
      },
      "source": [
        "defining discriminator and generator loss function"
      ]
    },
    {
      "cell_type": "code",
      "metadata": {
        "id": "QlfQ2j9tQqfa"
      },
      "source": [
        "D_loss = lambda: -KB.mean((1.-b) * (m * KB.log(discriminator(disc_inp) + 1e-8) + (1.-m) * KB.log(1. - discriminator(disc_inp) + 1e-8))) ## cross entropy loss function for the discriminator\n",
        "def G_loss(): # as explained in the paper\n",
        "  g= generator(make_gen_inp(x,m,z))\n",
        "  d= discriminator(make_disc_inp(x,m,g,h))\n",
        "  loss1 = -KB.mean((1-b) * ((1-m) * KB.log(d + 1e-8))) / KB.mean(1-m) # discriminator assessment for missing elements\n",
        "  loss2 =  KB.mean((m * x - m*g)**2) / KB.mean(m) ## MSE for observed elements\n",
        "  return loss1 + alpha*loss2"
      ],
      "execution_count": null,
      "outputs": []
    },
    {
      "cell_type": "code",
      "metadata": {
        "id": "4Ci-9pw2WNCX"
      },
      "source": [
        "##\n",
        "g_in = make_gen_inp(x_train, mask_train, noise_train)\n",
        "g_in_test = make_gen_inp(x_test, mask_test, noise_test)\n",
        "def calc_mse(generator, data =x_train ,g_in=g_in, mask = mask_train):\n",
        "  g_out = generator(g_in)\n",
        "  return np.mean(((mask * data - mask * g_out)**2)) / np.mean(mask)\n",
        "\n",
        "\n",
        "discriminator, generator = initialize_models()"
      ],
      "execution_count": null,
      "outputs": []
    },
    {
      "cell_type": "code",
      "metadata": {
        "id": "7O0z-W0pWNoe"
      },
      "source": [
        "theta_D = discriminator.trainable_weights\n",
        "theta_G = generator.trainable_weights"
      ],
      "execution_count": null,
      "outputs": []
    },
    {
      "cell_type": "code",
      "metadata": {
        "id": "kgntanRv0rA5"
      },
      "source": [
        ""
      ],
      "execution_count": null,
      "outputs": []
    },
    {
      "cell_type": "code",
      "metadata": {
        "id": "0KAZ4YmaXPK0",
        "outputId": "d1f2797f-ee8d-48f3-f4aa-defa67686b15",
        "colab": {
          "base_uri": "https://localhost:8080/",
          "height": 476
        }
      },
      "source": [
        "it=0\n",
        "alpha=10; data=[]\n",
        "train_mse_error = []; test_mse_error = []\n",
        "Loss_D=[]; Loss_G=[]; Loss_C=[] ; error_test=[]; error_train=[]\n",
        "for x, y, m, z,h,b in train_data:\n",
        "  it = it + 1 \n",
        "  z,m,h,b = tf.dtypes.cast((z,m,h,b), dtype=tf.float32)\n",
        "  x = tf.image.convert_image_dtype(x, dtype=tf.float32)\n",
        "  ## making generator input:\n",
        "  gen_inp = make_gen_inp(x,m,z)\n",
        "  g = generator(gen_inp)\n",
        "  ## making discriminator input\n",
        "  disc_inp = make_disc_inp(x,m,g,h)\n",
        "  ## train discriminator on the current batch\n",
        "  Loss_D.append(D_loss().numpy())\n",
        "  D_solver = tf.keras.optimizers.Adam().minimize(loss = D_loss, var_list=theta_D)\n",
        "\n",
        "  ## train the generator\n",
        "  Loss_G.append(G_loss().numpy())\n",
        "  G_solver = tf.keras.optimizers.Adam().minimize(loss = G_loss, var_list=theta_G)\n",
        "\n",
        "\n",
        "  if it % 500 == 0:\n",
        "    err = calc_mse(generator)\n",
        "    print(f\"at iteration {it} training error is {err}\")\n",
        "    train_mse_error.append(err)\n",
        "    err_test = calc_mse(generator,data=x_test, g_in=g_in_test, mask=mask_test)\n",
        "    print(f\"at iteration {it} test error is {err_test}\")\n",
        "    test_mse_error.append(err_test)\n",
        "    data.append(generator(tf.expand_dims(g_in[0], axis=0)))\n",
        "    print(f\"--------------\")\n"
      ],
      "execution_count": null,
      "outputs": [
        {
          "output_type": "stream",
          "text": [
            "at iteration 500 training error is 0.04041484594765816\n",
            "at iteration 500 test error is 0.03993903892859098\n",
            "--------------\n",
            "at iteration 1000 training error is 0.03238366534959992\n",
            "at iteration 1000 test error is 0.03200863990972338\n",
            "--------------\n",
            "at iteration 1500 training error is 0.02732580007683858\n",
            "at iteration 1500 test error is 0.026981852685412894\n",
            "--------------\n",
            "at iteration 2000 training error is 0.024588651569562504\n",
            "at iteration 2000 test error is 0.024151397560310338\n",
            "--------------\n",
            "at iteration 2500 training error is 0.023163042668474708\n",
            "at iteration 2500 test error is 0.022874476915058086\n",
            "--------------\n",
            "at iteration 3000 training error is 0.022721175785995147\n",
            "at iteration 3000 test error is 0.022461525756845842\n",
            "--------------\n",
            "at iteration 3500 training error is 0.02116546208891635\n",
            "at iteration 3500 test error is 0.02092838565132078\n",
            "--------------\n",
            "at iteration 4000 training error is 0.019461208706941093\n",
            "at iteration 4000 test error is 0.01932738186835353\n",
            "--------------\n",
            "at iteration 4500 training error is 0.019124361899818136\n",
            "at iteration 4500 test error is 0.01910360948513218\n",
            "--------------\n"
          ],
          "name": "stdout"
        }
      ]
    },
    {
      "cell_type": "code",
      "metadata": {
        "id": "Fmz4xZXD22_D"
      },
      "source": [
        ""
      ],
      "execution_count": null,
      "outputs": []
    },
    {
      "cell_type": "code",
      "metadata": {
        "id": "R0Xa6Giyc8Ip",
        "outputId": "48718f07-3fd8-48e4-c900-a62a7337f084",
        "colab": {
          "base_uri": "https://localhost:8080/",
          "height": 169
        }
      },
      "source": [
        "fig, ax = plt.subplots(1,9, figsize=(20,10))\n",
        "for i , j in enumerate(range(0,len(data))):\n",
        "  image = mask_train[0] * x_train[0] + (1-mask_train[0]) * data[j]\n",
        "  image = np.reshape(image,(28,28))\n",
        "  ax[i].imshow(image)\n",
        "  ax[i].set_title(f'iteration {j*500}')"
      ],
      "execution_count": null,
      "outputs": [
        {
          "output_type": "display_data",
          "data": {
            "image/png": "[encoded data removed]",
            "text/plain": [
              "<Figure size 1440x720 with 9 Axes>"
            ]
          },
          "metadata": {
            "tags": [],
            "needs_background": "light"
          }
        }
      ]
    },
    {
      "cell_type": "code",
      "metadata": {
        "id": "EsXrOcg75ICc"
      },
      "source": [
        ""
      ],
      "execution_count": null,
      "outputs": []
    },
    {
      "cell_type": "code",
      "metadata": {
        "id": "8AH9N2hP4GUD",
        "outputId": "ed93004b-bfa9-4b31-8379-8a8c1c26f28f",
        "colab": {
          "base_uri": "https://localhost:8080/",
          "height": 136
        }
      },
      "source": [
        "x_test_imputed = generator(g_in_test)\n",
        "print(f\"MSE for test data : {mean_squared_error(x_test_imputed, x_test)}\")\n",
        "fig = plot(x_test_imputed.numpy()[0:5], f'GAIN') ## plotting 5 images after imputation"
      ],
      "execution_count": null,
      "outputs": [
        {
          "output_type": "stream",
          "text": [
            "MSE for test data : 0.020754582270914583\n"
          ],
          "name": "stdout"
        },
        {
          "output_type": "display_data",
          "data": {
            "image/png": "[encoded data removed]",
            "text/plain": [
              "<Figure size 360x360 with 5 Axes>"
            ]
          },
          "metadata": {
            "tags": [],
            "needs_background": "light"
          }
        }
      ]
    },
    {
      "cell_type": "code",
      "metadata": {
        "id": "bh1AhRNZ9FNf"
      },
      "source": [
        ""
      ],
      "execution_count": null,
      "outputs": []
    }
  ]
}