{
  "nbformat": 4,
  "nbformat_minor": 0,
  "metadata": {
    "colab": {
      "name": "PyData_GAIN.ipynb",
      "provenance": [],
      "authorship_tag": "ABX9TyNys1sKUB6hG9zfVrj/aIq4",
      "include_colab_link": true
    },
    "kernelspec": {
      "name": "python3",
      "display_name": "Python 3"
    },
    "accelerator": "GPU"
  },
  "cells": [
    {
      "cell_type": "markdown",
      "metadata": {
        "id": "view-in-github",
        "colab_type": "text"
      },
      "source": [
        "<a href=\"https://colab.research.google.com/github/bezhvin/PyData2020-Eindhoven/blob/main/PyData_GAIN.ipynb\" target=\"_parent\"><img src=\"https://colab.research.google.com/assets/colab-badge.svg\" alt=\"Open In Colab\"/></a>"
      ]
    },
    {
      "cell_type": "markdown",
      "metadata": {
        "id": "8p18EIDkP-Zt"
      },
      "source": [
        "This is the implemetation of Generative Adversarial Imputation Nets (GAIN) with tensorflow 2.x and Keras\n"
      ]
    },
    {
      "cell_type": "code",
      "metadata": {
        "id": "VtsJ2sVRPAMo"
      },
      "source": [
        "%tensorflow_version 2.x"
      ],
      "execution_count": 1,
      "outputs": []
    },
    {
      "cell_type": "code",
      "metadata": {
        "id": "lnp7hgPKPIws"
      },
      "source": [
        "import numpy as np\n",
        "import matplotlib.pyplot as plt\n",
        "import matplotlib.gridspec as gridspec\n",
        "import tensorflow as tf\n",
        "from tensorflow import keras\n",
        "from keras.models import Sequential\n",
        "from keras.layers import Dense\n",
        "import tensorflow.keras.backend as KB\n",
        "from sklearn.metrics import mean_squared_error"
      ],
      "execution_count": 2,
      "outputs": []
    },
    {
      "cell_type": "code",
      "metadata": {
        "id": "f_zizC_iPMPj"
      },
      "source": [
        "def plot(samples, strategy):\n",
        "    fig = plt.figure(figsize = (5,5))\n",
        "    gs = gridspec.GridSpec(5,5)\n",
        "    gs.update(wspace=0.05, hspace=0.05)\n",
        "    \n",
        "    for i, sample in enumerate(samples):\n",
        "        ax = plt.subplot(gs[i])\n",
        "        plt.axis('off')\n",
        "        ax.set_xticklabels([])\n",
        "        ax.set_yticklabels([])\n",
        "        ax.set_aspect('equal')\n",
        "        plt.imshow(sample.reshape(28,28))\n",
        "    fig.suptitle(f'{strategy} imputation')    \n",
        "    return fig"
      ],
      "execution_count": 3,
      "outputs": []
    },
    {
      "cell_type": "markdown",
      "metadata": {
        "id": "lAdsyBFjQgKL"
      },
      "source": [
        "Reading and normalizing MNIST data\n"
      ]
    },
    {
      "cell_type": "code",
      "metadata": {
        "id": "Fm34XzZiPRNk"
      },
      "source": [
        "(x_train, y_train), (x_test, y_test) = tf.keras.datasets.mnist.load_data(path='mnist.npz')\n",
        "Dim = x_train.shape[1] * x_train.shape[2]\n",
        "x_train=x_train.reshape((x_train.shape[0],Dim))\n",
        "x_train = x_train / x_train.max()\n",
        "x_test=x_test.reshape((x_test.shape[0],Dim))\n",
        "x_test = x_test / x_test.max()\n",
        "y_train = tf.one_hot(y_train, 10)\n",
        "y_test = tf.one_hot(y_test, 10)\n",
        "\n"
      ],
      "execution_count": 4,
      "outputs": []
    },
    {
      "cell_type": "code",
      "metadata": {
        "id": "433ZMTG4QneG"
      },
      "source": [
        "## setting some variables:\n",
        "p_hint = 0.9 ### The hint probability\n",
        "p_missing = 0.2 ### missing rate\n",
        "mb_size= 128 ### mini batch size\n",
        "Train_No, D = x_train.shape"
      ],
      "execution_count": 5,
      "outputs": []
    },
    {
      "cell_type": "code",
      "metadata": {
        "id": "dm8tBE1DPSEs"
      },
      "source": [
        "### defining some functions\n",
        "def induce_missingness(data, p_missing=p_missing): ### indicung missingness in the data\n",
        "  new_data= np.copy(data)\n",
        "  A = np.random.uniform(0., 1., size = [data.shape[0], data.shape[1]])\n",
        "  B = A < p_missing\n",
        "  new_data[B] = np.nan\n",
        "  return new_data\n",
        "\n",
        "def make_noise_mask_hint(data, p_hint=0.9): ### this function creates auxilary data structures required for GAIN (e.g. hint, mask)\n",
        "  # noise of the same size as data\n",
        "  Z = np.random.uniform(0,1,[data.shape[0], data.shape[1]])\n",
        "  #mask to show what element is missing\n",
        "  mask = 1. * np.invert(np.isnan(data))\n",
        "  # hint vector (refer to teh paper)\n",
        "  A = np.random.uniform(0., 1., size = [data.shape[0], data.shape[1]])\n",
        "  B = A > (1- p_hint)\n",
        "  C = 1. * B\n",
        "  hint = C * mask + (1-C) * 0.5\n",
        "  return Z, mask, hint, C"
      ],
      "execution_count": 6,
      "outputs": []
    },
    {
      "cell_type": "code",
      "metadata": {
        "id": "CfUb0uJYU8m8"
      },
      "source": [
        "### Preparing data ....\n",
        "x_train_miss = induce_missingness(x_train)\n",
        "x_test_miss = induce_missingness(x_test)\n",
        "\n",
        "noise_train, mask_train, hint_train, B_train = make_noise_mask_hint(x_train_miss)\n",
        "noise_test, mask_test, hint_test, B_test = make_noise_mask_hint(x_test_miss)"
      ],
      "execution_count": 7,
      "outputs": []
    },
    {
      "cell_type": "code",
      "metadata": {
        "id": "0l5KXI-UU7a1"
      },
      "source": [
        "### Making generator and discriminator\n",
        "def make_generator(gen_inp_dim, gen_out_dim):\n",
        "  generator = Sequential(name='generator')\n",
        "  generator.add(Dense(units = 256, input_dim=gen_inp_dim, activation=tf.nn.leaky_relu ))\n",
        "  generator.add(Dense(units = 128, activation=tf.nn.leaky_relu))\n",
        "  generator.add(Dense(units=gen_out_dim, activation=tf.nn.sigmoid))\n",
        "  return generator\n",
        "\n",
        "def make_discriminator(disc_inp_dim, disc_out_dim):\n",
        "  discriminator = Sequential(name='discriminator')\n",
        "  discriminator.add(Dense(units = 256, input_dim=disc_inp_dim, activation=tf.nn.leaky_relu ))\n",
        "  discriminator.add(Dense(units = 128, activation=tf.nn.leaky_relu))\n",
        "  discriminator.add(Dense(units=disc_out_dim, activation=tf.nn.sigmoid))\n",
        "  return discriminator"
      ],
      "execution_count": 8,
      "outputs": []
    },
    {
      "cell_type": "code",
      "metadata": {
        "id": "ZUMDIfBXR4gC"
      },
      "source": [
        "## generator imput:\n",
        "def make_gen_inp(x,m, z):\n",
        "  y =  m * x + (1-m) * z \n",
        "  return tf.concat([y,m], axis=-1)\n",
        "## discriminator input\n",
        "def make_disc_inp(x,m, g, h):\n",
        "  y =  m * x + (1-m) * g \n",
        "  return tf.concat([y,h], axis=-1)\n",
        "\n",
        "def initialize_models():\n",
        "  g_in = make_gen_inp(x_train, mask_train, noise_train)\n",
        "  generator = make_generator(g_in.shape[1],x_train.shape[1])\n",
        "  g_out = generator(g_in)\n",
        "  d_in = make_disc_inp(x_train, mask_train, g_out, hint_train)\n",
        "  discriminator = make_discriminator(d_in.shape[1],hint_train.shape[1])\n",
        "  return discriminator, generator\n",
        "\n",
        "\n",
        "g_in = make_gen_inp(x_train, mask_train, noise_train)\n",
        "g_in_test = make_gen_inp(x_test, mask_test, noise_test)\n",
        "def calc_mse(generator, data =x_train ,g_in=g_in, mask = mask_train): ## returning MSE\n",
        "  g_out = generator(g_in)\n",
        "  return np.mean(((mask * data - mask * g_out)**2)) / np.mean(mask)"
      ],
      "execution_count": 9,
      "outputs": []
    },
    {
      "cell_type": "code",
      "metadata": {
        "id": "bIUXFu9lRC41"
      },
      "source": [
        "# data pipeline from tensorflow data --> https://www.tensorflow.org/api_docs/python/tf/data/Dataset\n",
        "train_data = tf.data.Dataset.from_tensor_slices((x_train,y_train,mask_train, noise_train,hint_train, B_train)).repeat(10).shuffle(Train_No).batch(mb_size)"
      ],
      "execution_count": 10,
      "outputs": []
    },
    {
      "cell_type": "code",
      "metadata": {
        "id": "QlfQ2j9tQqfa"
      },
      "source": [
        "### defining discriminator and generator loss function\n",
        "D_loss = lambda: -KB.mean((1.-b) * (m * KB.log(discriminator(disc_inp) + 1e-8) + (1.-m) * KB.log(1. - discriminator(disc_inp) + 1e-8))) ## cross entropy loss function for the discriminator\n",
        "def G_loss(): # as explained in the paper\n",
        "  g= generator(make_gen_inp(x,m,z))\n",
        "  d= discriminator(make_disc_inp(x,m,g,h))\n",
        "  loss1 = -KB.mean((1-b) * ((1-m) * KB.log(d + 1e-8))) / KB.mean(1-m) # discriminator assessment for missing elements\n",
        "  loss2 =  KB.mean((m * x - m*g)**2) / KB.mean(m) ## MSE for observed elements\n",
        "  return loss1 + alpha*loss2"
      ],
      "execution_count": 11,
      "outputs": []
    },
    {
      "cell_type": "code",
      "metadata": {
        "id": "4Ci-9pw2WNCX"
      },
      "source": [
        "discriminator, generator = initialize_models()"
      ],
      "execution_count": 12,
      "outputs": []
    },
    {
      "cell_type": "code",
      "metadata": {
        "id": "7O0z-W0pWNoe"
      },
      "source": [
        "theta_D = discriminator.trainable_weights\n",
        "theta_G = generator.trainable_weights"
      ],
      "execution_count": 13,
      "outputs": []
    },
    {
      "cell_type": "code",
      "metadata": {
        "id": "0KAZ4YmaXPK0",
        "outputId": "3148c419-2351-47a4-f1fe-64d6c2064ae4",
        "colab": {
          "base_uri": "https://localhost:8080/",
          "height": 476
        }
      },
      "source": [
        "### Training starts ...\n",
        "it=0\n",
        "alpha=10; data=[]\n",
        "train_mse_error = []; test_mse_error = []\n",
        "Loss_D=[]; Loss_G=[]; Loss_C=[] ; error_test=[]; error_train=[]\n",
        "for x, y, m, z,h,b in train_data: ### going over mini batches\n",
        "  it = it + 1 \n",
        "  z,m,h,b = tf.dtypes.cast((z,m,h,b), dtype=tf.float32)\n",
        "  x = tf.image.convert_image_dtype(x, dtype=tf.float32)\n",
        "  ## making generator input:\n",
        "  gen_inp = make_gen_inp(x,m,z)\n",
        "  g = generator(gen_inp)\n",
        "  ## making discriminator input\n",
        "  disc_inp = make_disc_inp(x,m,g,h)\n",
        "  ## train discriminator on the current batch\n",
        "  Loss_D.append(D_loss().numpy()) ### storing the loss value for monitoring\n",
        "  D_solver = tf.keras.optimizers.Adam().minimize(loss = D_loss, var_list=theta_D)\n",
        "\n",
        "  ## train the generator\n",
        "  Loss_G.append(G_loss().numpy()) ### storing the loss value for monitoring\n",
        "  G_solver = tf.keras.optimizers.Adam().minimize(loss = G_loss, var_list=theta_G)\n",
        "\n",
        "\n",
        "  if it % 500 == 0: ### every 500 iteration we check the model perfromance\n",
        "    err = calc_mse(generator)\n",
        "    print(f\"at iteration {it} training error is {err}\")\n",
        "    train_mse_error.append(err)\n",
        "    err_test = calc_mse(generator,data=x_test, g_in=g_in_test, mask=mask_test)\n",
        "    print(f\"at iteration {it} test error is {err_test}\")\n",
        "    test_mse_error.append(err_test)\n",
        "    data.append(generator(tf.expand_dims(g_in[0], axis=0)))\n",
        "    print(f\"--------------\")\n"
      ],
      "execution_count": 14,
      "outputs": [
        {
          "output_type": "stream",
          "text": [
            "at iteration 500 training error is 0.04396921390871595\n",
            "at iteration 500 test error is 0.04386770015552105\n",
            "--------------\n",
            "at iteration 1000 training error is 0.03332501221667498\n",
            "at iteration 1000 test error is 0.03302769964560754\n",
            "--------------\n",
            "at iteration 1500 training error is 0.028360814101314625\n",
            "at iteration 1500 test error is 0.028169835649015706\n",
            "--------------\n",
            "at iteration 2000 training error is 0.026583433178056906\n",
            "at iteration 2000 test error is 0.026287178272569923\n",
            "--------------\n",
            "at iteration 2500 training error is 0.02431254048007444\n",
            "at iteration 2500 test error is 0.023921343522017503\n",
            "--------------\n",
            "at iteration 3000 training error is 0.023241498182528735\n",
            "at iteration 3000 test error is 0.023117677957312927\n",
            "--------------\n",
            "at iteration 3500 training error is 0.021142675582625923\n",
            "at iteration 3500 test error is 0.020984447941134667\n",
            "--------------\n",
            "at iteration 4000 training error is 0.021380203284318527\n",
            "at iteration 4000 test error is 0.02126723520019411\n",
            "--------------\n",
            "at iteration 4500 training error is 0.019500975880487385\n",
            "at iteration 4500 test error is 0.01943904041712834\n",
            "--------------\n"
          ],
          "name": "stdout"
        }
      ]
    },
    {
      "cell_type": "code",
      "metadata": {
        "id": "R0Xa6Giyc8Ip",
        "outputId": "d8f1ad4a-e802-4552-f9b3-bc94f9db7d6c",
        "colab": {
          "base_uri": "https://localhost:8080/",
          "height": 417
        }
      },
      "source": [
        "### visualizing the imputation (done by the generator) for some iterations\n",
        "ax = plt.imshow(np.reshape(x_train_miss[0],(28,28)))\n",
        "fig, ax = plt.subplots(1,9, figsize=(20,10))\n",
        "for i , j in enumerate(range(0,len(data))):\n",
        "  image = mask_train[0] * x_train[0] + (1-mask_train[0]) * data[j]\n",
        "  image = np.reshape(image,(28,28))\n",
        "  ax[i].imshow(image)\n",
        "  ax[i].set_title(f'iteration {j*500 + 500}')"
      ],
      "execution_count": 20,
      "outputs": [
        {
          "output_type": "display_data",
          "data": {
            "image/png": "[encoded data removed]",
            "text/plain": [
              "<Figure size 432x288 with 1 Axes>"
            ]
          },
          "metadata": {
            "tags": [],
            "needs_background": "light"
          }
        },
        {
          "output_type": "display_data",
          "data": {
            "image/png": "[encoded data removed]",
            "text/plain": [
              "<Figure size 1440x720 with 9 Axes>"
            ]
          },
          "metadata": {
            "tags": [],
            "needs_background": "light"
          }
        }
      ]
    },
    {
      "cell_type": "code",
      "metadata": {
        "id": "8AH9N2hP4GUD",
        "outputId": "a5f02167-9474-40f4-9164-44b36e2afc61",
        "colab": {
          "base_uri": "https://localhost:8080/",
          "height": 136
        }
      },
      "source": [
        "# Plotting the output of generator, NOTE that in practice only missing pixels are taken from this output\n",
        "x_test_imputed = generator(g_in_test) \n",
        "print(f\"MSE for test data : {mean_squared_error(x_test_imputed, x_test)}\")\n",
        "fig = plot(x_test_imputed.numpy()[0:5], f'GAIN') ## plotting 5 images after imputation"
      ],
      "execution_count": 21,
      "outputs": [
        {
          "output_type": "stream",
          "text": [
            "MSE for test data : 0.02113920404913997\n"
          ],
          "name": "stdout"
        },
        {
          "output_type": "display_data",
          "data": {
            "image/png": "[encoded data removed]",
            "text/plain": [
              "<Figure size 360x360 with 5 Axes>"
            ]
          },
          "metadata": {
            "tags": [],
            "needs_background": "light"
          }
        }
      ]
    },
    {
      "cell_type": "code",
      "metadata": {
        "id": "bh1AhRNZ9FNf"
      },
      "source": [
        ""
      ],
      "execution_count": null,
      "outputs": []
    }
  ]
}