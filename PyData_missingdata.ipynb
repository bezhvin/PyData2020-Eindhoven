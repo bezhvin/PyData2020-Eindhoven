{
  "nbformat": 4,
  "nbformat_minor": 0,
  "metadata": {
    "colab": {
      "name": "PyData_missingdata.ipynb",
      "provenance": [],
      "authorship_tag": "ABX9TyPr9jnMBYBOOYR5fOasIq2v",
      "include_colab_link": true
    },
    "kernelspec": {
      "name": "python3",
      "display_name": "Python 3"
    },
    "accelerator": "GPU"
  },
  "cells": [
    {
      "cell_type": "markdown",
      "metadata": {
        "id": "view-in-github",
        "colab_type": "text"
      },
      "source": [
        "<a href=\"https://colab.research.google.com/github/bezhvin/PyData2020-Eindhoven/blob/main/PyData_missingdata.ipynb\" target=\"_parent\"><img src=\"https://colab.research.google.com/assets/colab-badge.svg\" alt=\"Open In Colab\"/></a>"
      ]
    },
    {
      "cell_type": "code",
      "metadata": {
        "id": "puR2tIsvhGFM"
      },
      "source": [
        "%tensorflow_version 2.x"
      ],
      "execution_count": null,
      "outputs": []
    },
    {
      "cell_type": "code",
      "metadata": {
        "id": "m5XU2goxhdeU",
        "outputId": "05b4128b-dc75-48ca-fcca-99e61437f9fc",
        "colab": {
          "base_uri": "https://localhost:8080/",
          "height": 71
        }
      },
      "source": [
        "import numpy as np\n",
        "import matplotlib.pyplot as plt\n",
        "import matplotlib.gridspec as gridspec\n",
        "import tensorflow as tf\n",
        "from tensorflow import keras\n",
        "from sklearn.experimental import enable_iterative_imputer\n",
        "from sklearn.impute import SimpleImputer, IterativeImputer, KNNImputer\n",
        "from sklearn.metrics import mean_squared_error\n",
        "from sklearn.linear_model import LogisticRegression\n",
        "from sklearn.tree import DecisionTreeRegressor\n",
        "from sklearn.ensemble import ExtraTreesRegressor, RandomForestRegressor\n",
        "from fancyimpute import KNN\n",
        "from fancyimpute import IterativeImputer as MICE"
      ],
      "execution_count": null,
      "outputs": [
        {
          "output_type": "stream",
          "text": [
            "/usr/local/lib/python3.6/dist-packages/sklearn/externals/six.py:31: FutureWarning: The module is deprecated in version 0.21 and will be removed in version 0.23 since we've dropped support for Python 2.7. Please rely on the official version of six (https://pypi.org/project/six/).\n",
            "  \"(https://pypi.org/project/six/).\", FutureWarning)\n"
          ],
          "name": "stderr"
        }
      ]
    },
    {
      "cell_type": "code",
      "metadata": {
        "id": "grZSg_SqBDer"
      },
      "source": [
        "def plot(samples, strategy):\n",
        "    fig = plt.figure(figsize = (10,10))\n",
        "    gs = gridspec.GridSpec(5,5)\n",
        "    gs.update(wspace=0.05, hspace=0.05)\n",
        "    \n",
        "    for i, sample in enumerate(samples):\n",
        "        ax = plt.subplot(gs[i])\n",
        "        plt.axis('off')\n",
        "        ax.set_xticklabels([])\n",
        "        ax.set_yticklabels([])\n",
        "        ax.set_aspect('equal')\n",
        "        plt.imshow(sample.reshape(28,28))\n",
        "    #fig.suptitle(f'{strategy} imputation')    \n",
        "    return fig"
      ],
      "execution_count": null,
      "outputs": []
    },
    {
      "cell_type": "markdown",
      "metadata": {
        "id": "G8pPXOr_jXrj"
      },
      "source": [
        "**Reading and preparing data**\n"
      ]
    },
    {
      "cell_type": "code",
      "metadata": {
        "id": "MPnQCzdGhy4w"
      },
      "source": [
        "(x_train, y_train), (x_test, y_test) = tf.keras.datasets.mnist.load_data(path='mnist.npz')\n",
        "Dim = x_train.shape[1] * x_train.shape[2]\n",
        "x_train=x_train.reshape((x_train.shape[0],Dim))\n",
        "x_train = x_train / x_train.max()\n",
        "x_test=x_test.reshape((x_test.shape[0],Dim))\n",
        "x_test = x_test / x_test.max()\n",
        "y_train = tf.one_hot(y_train, 10)\n",
        "y_test = tf.one_hot(y_test, 10)"
      ],
      "execution_count": null,
      "outputs": []
    },
    {
      "cell_type": "code",
      "metadata": {
        "id": "oAyjxU91EyVP"
      },
      "source": [
        ""
      ],
      "execution_count": null,
      "outputs": []
    },
    {
      "cell_type": "markdown",
      "metadata": {
        "id": "_EH3Z8DNkRfU"
      },
      "source": [
        "**Adding missingness randomly**"
      ]
    },
    {
      "cell_type": "code",
      "metadata": {
        "id": "_uwzDgjxkT3D"
      },
      "source": [
        "  def induce_missingness(data, p_missing=0.2):\n",
        "    new_data= np.copy(data)\n",
        "    A = np.random.uniform(0., 1., size = [data.shape[0], data.shape[1]])\n",
        "    B = A < p_missing\n",
        "    new_data[B] = np.nan\n",
        "    return new_data\n",
        "\n",
        "x_train_miss = induce_missingness(x_train)\n",
        "x_test_miss = induce_missingness(x_test)\n"
      ],
      "execution_count": null,
      "outputs": []
    },
    {
      "cell_type": "code",
      "metadata": {
        "id": "TZiwl5cxl4H_",
        "outputId": "4b96f2ad-1c25-45b6-84be-be4c47343588",
        "colab": {
          "base_uri": "https://localhost:8080/",
          "height": 253
        }
      },
      "source": [
        "## how image would look like after imposing 20% missingness\n",
        "#plt.imshow(np.reshape(x_train_miss[0], (28,28)))\n",
        "fig = plot(x_test[0:5], 'complete data')\n",
        "fig = plot(x_test_miss[0:5], 'incomplete data')"
      ],
      "execution_count": null,
      "outputs": [
        {
          "output_type": "display_data",
          "data": {
            "image/png": "[encoded data removed]",
            "text/plain": [
              "<Figure size 720x720 with 5 Axes>"
            ]
          },
          "metadata": {
            "tags": [],
            "needs_background": "light"
          }
        },
        {
          "output_type": "display_data",
          "data": {
            "image/png": "[encoded data removed]",
            "text/plain": [
              "<Figure size 720x720 with 5 Axes>"
            ]
          },
          "metadata": {
            "tags": [],
            "needs_background": "light"
          }
        }
      ]
    },
    {
      "cell_type": "markdown",
      "metadata": {
        "id": "3ROAt-AHDGa-"
      },
      "source": [
        "**Single imputation**"
      ]
    },
    {
      "cell_type": "code",
      "metadata": {
        "id": "eu9cSf0Fm8ne",
        "outputId": "eaad6a36-991a-48e1-ccef-3212f17e53aa",
        "colab": {
          "base_uri": "https://localhost:8080/",
          "height": 355
        }
      },
      "source": [
        "for strategy in ('mean', 'median'):\n",
        "  imputer = SimpleImputer(missing_values=np.nan, strategy=strategy).fit(x_train_miss)\n",
        "  x_train_imputed = imputer.transform(x_train_miss)\n",
        "  x_test_imputed = imputer.transform(x_test_miss)\n",
        "  print(f\"---STRATEGY : {strategy} ---\")\n",
        "  print(f\"MSE for train data : {mean_squared_error(x_train_imputed, x_train)}\")\n",
        "  print(f\"MSE for test data : {mean_squared_error(x_test_imputed, x_test)}\")\n",
        "  fig = plot(x_test_imputed[0:5], strategy) ## plotting 5 images after imputation "
      ],
      "execution_count": null,
      "outputs": [
        {
          "output_type": "stream",
          "text": [
            "---STRATEGY : mean ---\n",
            "MSE for train data : 0.013451794556744293\n",
            "MSE for test data : 0.01346211287233753\n",
            "---STRATEGY : median ---\n",
            "MSE for train data : 0.017392287357917063\n",
            "MSE for test data : 0.017502075750888593\n"
          ],
          "name": "stdout"
        },
        {
          "output_type": "display_data",
          "data": {
            "image/png": "[encoded data removed]",
            "text/plain": [
              "<Figure size 720x720 with 5 Axes>"
            ]
          },
          "metadata": {
            "tags": [],
            "needs_background": "light"
          }
        },
        {
          "output_type": "display_data",
          "data": {
            "image/png": "[encoded data removed]",
            "text/plain": [
              "<Figure size 720x720 with 5 Axes>"
            ]
          },
          "metadata": {
            "tags": [],
            "needs_background": "light"
          }
        }
      ]
    },
    {
      "cell_type": "markdown",
      "metadata": {
        "id": "T_ZFko1ID3Uk"
      },
      "source": [
        "*KNN imputation (only first 100 images to get fast computation)*\n"
      ]
    },
    {
      "cell_type": "code",
      "metadata": {
        "id": "8YYdPklwBb12",
        "outputId": "77d34beb-8307-43d5-b404-cc02b69f31f0",
        "colab": {
          "base_uri": "https://localhost:8080/",
          "height": 186
        }
      },
      "source": [
        "imputer = KNNImputer(n_neighbors=5, weights='uniform').fit(x_train_miss[0:100]) ## playing with the hyperparameters result in differnt outputs\n",
        "x_train_imputed = imputer.transform(x_train_miss[0:100])\n",
        "x_test_imputed = imputer.transform(x_test_miss[0:100])\n",
        "print(f\"---STRATEGY : KNN --- (ONLY for 100 images)\")\n",
        "print(f\"MSE for train data : {mean_squared_error(x_train_imputed[0:100], x_train[0:100])}\")\n",
        "print(f\"MSE for test data : {mean_squared_error(x_test_imputed[0:100], x_test[0:100])}\")\n",
        "fig = plot(x_test_imputed[0:5], 'KNN') ## plotting 5 images after imputation "
      ],
      "execution_count": null,
      "outputs": [
        {
          "output_type": "stream",
          "text": [
            "---STRATEGY : KNN --- (ONLY for 100 images)\n",
            "MSE for train data : 0.00813462552864283\n",
            "MSE for test data : 0.009391225235192115\n"
          ],
          "name": "stdout"
        },
        {
          "output_type": "display_data",
          "data": {
            "image/png": "[encoded data removed]",
            "text/plain": [
              "<Figure size 720x720 with 5 Axes>"
            ]
          },
          "metadata": {
            "tags": [],
            "needs_background": "light"
          }
        }
      ]
    },
    {
      "cell_type": "code",
      "metadata": {
        "id": "IWCZqljdsOO3",
        "outputId": "a0316ac6-c7d5-402a-a96a-56a543d9f0d5",
        "colab": {
          "base_uri": "https://localhost:8080/",
          "height": 1000
        }
      },
      "source": [
        "x_test_imputed[0]"
      ],
      "execution_count": null,
      "outputs": [
        {
          "output_type": "execute_result",
          "data": {
            "text/plain": [
              "array([0.        , 0.        , 0.        , 0.        , 0.        ,\n",
              "       0.        , 0.        , 0.        , 0.        , 0.        ,\n",
              "       0.        , 0.        , 0.        , 0.        , 0.        ,\n",
              "       0.        , 0.        , 0.        , 0.        , 0.        ,\n",
              "       0.        , 0.        , 0.        , 0.        , 0.        ,\n",
              "       0.        , 0.        , 0.        , 0.        , 0.        ,\n",
              "       0.        , 0.        , 0.        , 0.        , 0.        ,\n",
              "       0.        , 0.        , 0.        , 0.        , 0.        ,\n",
              "       0.        , 0.        , 0.        , 0.        , 0.        ,\n",
              "       0.        , 0.        , 0.        , 0.        , 0.        ,\n",
              "       0.        , 0.        , 0.        , 0.        , 0.        ,\n",
              "       0.        , 0.        , 0.        , 0.        , 0.        ,\n",
              "       0.        , 0.        , 0.        , 0.        , 0.        ,\n",
              "       0.        , 0.        , 0.        , 0.        , 0.        ,\n",
              "       0.        , 0.        , 0.        , 0.        , 0.        ,\n",
              "       0.        , 0.        , 0.        , 0.        , 0.        ,\n",
              "       0.        , 0.        , 0.        , 0.        , 0.        ,\n",
              "       0.        , 0.        , 0.        , 0.        , 0.        ,\n",
              "       0.        , 0.        , 0.        , 0.        , 0.        ,\n",
              "       0.        , 0.        , 0.        , 0.        , 0.        ,\n",
              "       0.        , 0.        , 0.        , 0.        , 0.        ,\n",
              "       0.        , 0.        , 0.        , 0.        , 0.        ,\n",
              "       0.        , 0.        , 0.        , 0.        , 0.        ,\n",
              "       0.        , 0.        , 0.        , 0.        , 0.        ,\n",
              "       0.        , 0.        , 0.        , 0.        , 0.        ,\n",
              "       0.        , 0.        , 0.        , 0.        , 0.        ,\n",
              "       0.        , 0.        , 0.        , 0.        , 0.        ,\n",
              "       0.        , 0.        , 0.        , 0.        , 0.        ,\n",
              "       0.        , 0.        , 0.        , 0.        , 0.        ,\n",
              "       0.        , 0.        , 0.        , 0.        , 0.        ,\n",
              "       0.        , 0.        , 0.        , 0.        , 0.        ,\n",
              "       0.        , 0.        , 0.        , 0.        , 0.        ,\n",
              "       0.        , 0.        , 0.        , 0.        , 0.        ,\n",
              "       0.        , 0.        , 0.        , 0.        , 0.        ,\n",
              "       0.        , 0.        , 0.        , 0.        , 0.        ,\n",
              "       0.        , 0.        , 0.        , 0.        , 0.        ,\n",
              "       0.        , 0.        , 0.        , 0.        , 0.        ,\n",
              "       0.        , 0.        , 0.        , 0.        , 0.        ,\n",
              "       0.        , 0.        , 0.        , 0.        , 0.        ,\n",
              "       0.        , 0.        , 0.        , 0.        , 0.        ,\n",
              "       0.        , 0.19843137, 0.32941176, 0.7254902 , 0.62352941,\n",
              "       0.59215686, 0.23529412, 0.14117647, 0.        , 0.        ,\n",
              "       0.50431373, 0.71372549, 0.        , 0.        , 0.        ,\n",
              "       0.        , 0.        , 0.        , 0.        , 0.        ,\n",
              "       0.        , 0.        , 0.        , 0.        , 0.        ,\n",
              "       0.        , 0.        , 0.        , 0.        , 0.        ,\n",
              "       0.27215686, 0.19764706, 0.99607843, 0.39529412, 0.62117647,\n",
              "       0.94509804, 0.77647059, 0.77647059, 0.77647059, 0.77647059,\n",
              "       0.77647059, 0.98352941, 0.77647059, 0.50196078, 0.66666667,\n",
              "       0.20392157, 0.        , 0.        , 0.        , 0.        ,\n",
              "       0.        , 0.        , 0.        , 0.        , 0.        ,\n",
              "       0.        , 0.        , 0.        , 0.2627451 , 0.44705882,\n",
              "       0.28235294, 0.63137255, 0.63921569, 0.89019608, 0.99607843,\n",
              "       0.88235294, 0.99607843, 0.99607843, 0.50431373, 0.98039216,\n",
              "       0.89803922, 0.99607843, 0.99607843, 0.54901961, 0.        ,\n",
              "       0.        , 0.        , 0.        , 0.        , 0.        ,\n",
              "       0.        , 0.        , 0.        , 0.        , 0.        ,\n",
              "       0.        , 0.        , 0.        , 0.        , 0.        ,\n",
              "       0.        , 0.06666667, 0.25882353, 0.05490196, 0.2627451 ,\n",
              "       0.2627451 , 0.2627451 , 0.23137255, 0.79137255, 0.50509804,\n",
              "       0.99607843, 0.19764706, 0.        , 0.        , 0.        ,\n",
              "       0.        , 0.        , 0.        , 0.        , 0.        ,\n",
              "       0.        , 0.        , 0.        , 0.        , 0.        ,\n",
              "       0.4627451 , 0.31607843, 0.41568627, 0.        , 0.        ,\n",
              "       0.        , 0.        , 0.        , 0.04235294, 0.53098039,\n",
              "       0.        , 0.3254902 , 0.99215686, 0.08      , 0.07058824,\n",
              "       0.        , 0.        , 0.        , 0.        , 0.        ,\n",
              "       0.        , 0.        , 0.        , 0.        , 0.        ,\n",
              "       0.        , 0.        , 0.        , 0.        , 0.        ,\n",
              "       0.        , 0.        , 0.        , 0.        , 0.        ,\n",
              "       0.        , 0.16313725, 0.        , 0.63921569, 0.91372549,\n",
              "       1.        , 0.3254902 , 0.        , 0.        , 0.        ,\n",
              "       0.        , 0.        , 0.        , 0.        , 0.        ,\n",
              "       0.        , 0.        , 0.        , 0.        , 0.        ,\n",
              "       0.        , 0.        , 0.42039216, 0.        , 0.        ,\n",
              "       0.        , 0.        , 0.        , 0.        , 0.        ,\n",
              "       0.79529412, 0.50588235, 0.99607843, 0.93333333, 0.17254902,\n",
              "       0.        , 0.        , 0.        , 0.        , 0.        ,\n",
              "       0.        , 0.        , 0.        , 0.        , 0.        ,\n",
              "       0.        , 0.        , 0.        , 0.        , 0.        ,\n",
              "       0.        , 0.        , 0.        , 0.        , 0.        ,\n",
              "       0.        , 0.47137255, 0.        , 0.71058824, 0.97647059,\n",
              "       0.99607843, 0.24313725, 0.        , 0.        , 0.        ,\n",
              "       0.        , 0.        , 0.        , 0.        , 0.        ,\n",
              "       0.        , 0.        , 0.        , 0.        , 0.        ,\n",
              "       0.        , 0.        , 0.        , 0.        , 0.        ,\n",
              "       0.        , 0.        , 0.23764706, 0.        , 0.22196078,\n",
              "       0.55843137, 0.52156863, 0.99607843, 0.73333333, 0.01568627,\n",
              "       0.        , 0.        , 0.        , 0.        , 0.        ,\n",
              "       0.        , 0.        , 0.        , 0.        , 0.        ,\n",
              "       0.        , 0.        , 0.        , 0.        , 0.        ,\n",
              "       0.        , 0.1027451 , 0.        , 0.22901961, 0.        ,\n",
              "       0.        , 0.        , 0.2172549 , 0.03529412, 0.85098039,\n",
              "       0.97254902, 0.22745098, 0.        , 0.        , 0.        ,\n",
              "       0.        , 0.        , 0.        , 0.        , 0.        ,\n",
              "       0.        , 0.        , 0.        , 0.        , 0.        ,\n",
              "       0.        , 0.        , 0.        , 0.        , 0.        ,\n",
              "       0.        , 0.        , 0.        , 0.        , 0.        ,\n",
              "       0.        , 0.49411765, 0.99607843, 0.71372549, 0.        ,\n",
              "       0.        , 0.        , 0.        , 0.        , 0.        ,\n",
              "       0.        , 0.        , 0.        , 0.        , 0.        ,\n",
              "       0.        , 0.        , 0.        , 0.        , 0.        ,\n",
              "       0.        , 0.        , 0.        , 0.        , 0.        ,\n",
              "       0.        , 0.        , 0.        , 0.29411765, 0.98431373,\n",
              "       0.94117647, 0.22352941, 0.        , 0.        , 0.        ,\n",
              "       0.        , 0.        , 0.        , 0.        , 0.        ,\n",
              "       0.        , 0.        , 0.        , 0.        , 0.        ,\n",
              "       0.        , 0.        , 0.        , 0.        , 0.        ,\n",
              "       0.        , 0.        , 0.        , 0.        , 0.        ,\n",
              "       0.24470588, 0.86666667, 0.99607843, 0.65098039, 0.        ,\n",
              "       0.        , 0.        , 0.        , 0.        , 0.        ,\n",
              "       0.        , 0.        , 0.        , 0.        , 0.        ,\n",
              "       0.        , 0.        , 0.        , 0.        , 0.        ,\n",
              "       0.        , 0.        , 0.        , 0.        , 0.        ,\n",
              "       0.        , 0.        , 0.01176471, 0.79607843, 0.99607843,\n",
              "       0.85882353, 0.1372549 , 0.        , 0.        , 0.        ,\n",
              "       0.        , 0.        , 0.        , 0.        , 0.        ,\n",
              "       0.        , 0.        , 0.        , 0.        , 0.        ,\n",
              "       0.        , 0.        , 0.        , 0.        , 0.        ,\n",
              "       0.        , 0.        , 0.        , 0.        , 0.        ,\n",
              "       0.14901961, 0.64392157, 0.99607843, 0.43686275, 0.        ,\n",
              "       0.        , 0.        , 0.        , 0.        , 0.        ,\n",
              "       0.        , 0.        , 0.        , 0.        , 0.        ,\n",
              "       0.        , 0.        , 0.        , 0.        , 0.        ,\n",
              "       0.        , 0.        , 0.        , 0.        , 0.        ,\n",
              "       0.        , 0.        , 0.12156863, 0.87843137, 0.99607843,\n",
              "       0.73568627, 0.00392157, 0.        , 0.        , 0.        ,\n",
              "       0.        , 0.        , 0.        , 0.        , 0.        ,\n",
              "       0.        , 0.        , 0.        , 0.        , 0.        ,\n",
              "       0.        , 0.        , 0.        , 0.        , 0.        ,\n",
              "       0.        , 0.        , 0.        , 0.        , 0.        ,\n",
              "       0.52156863, 0.99607843, 0.99607843, 0.20392157, 0.1027451 ,\n",
              "       0.        , 0.        , 0.        , 0.        , 0.        ,\n",
              "       0.        , 0.        , 0.        , 0.        , 0.        ,\n",
              "       0.        , 0.        , 0.        , 0.        , 0.        ,\n",
              "       0.        , 0.        , 0.        , 0.        , 0.        ,\n",
              "       0.        , 0.        , 0.23921569, 0.94901961, 0.63294118,\n",
              "       0.99607843, 0.20392157, 0.02352941, 0.        , 0.        ,\n",
              "       0.        , 0.        , 0.        , 0.        , 0.        ,\n",
              "       0.        , 0.        , 0.        , 0.        , 0.        ,\n",
              "       0.        , 0.        , 0.        , 0.        , 0.        ,\n",
              "       0.        , 0.        , 0.        , 0.        , 0.        ,\n",
              "       0.26509804, 0.99607843, 0.99607843, 0.85882353, 0.15686275,\n",
              "       0.        , 0.        , 0.        , 0.        , 0.        ,\n",
              "       0.        , 0.        , 0.        , 0.        , 0.        ,\n",
              "       0.        , 0.        , 0.        , 0.        , 0.        ,\n",
              "       0.        , 0.        , 0.        , 0.        , 0.        ,\n",
              "       0.        , 0.        , 0.        , 0.06666667, 0.99607843,\n",
              "       0.81176471, 0.07058824, 0.        , 0.        , 0.        ,\n",
              "       0.        , 0.        , 0.        , 0.        , 0.        ,\n",
              "       0.        , 0.        , 0.        , 0.        , 0.        ,\n",
              "       0.        , 0.        , 0.        , 0.        , 0.        ,\n",
              "       0.        , 0.        , 0.        , 0.        , 0.        ,\n",
              "       0.        , 0.        , 0.        , 0.        , 0.        ,\n",
              "       0.        , 0.        , 0.        , 0.        , 0.        ,\n",
              "       0.        , 0.        , 0.        , 0.        , 0.        ,\n",
              "       0.        , 0.        , 0.        , 0.        ])"
            ]
          },
          "metadata": {
            "tags": []
          },
          "execution_count": 25
        }
      ]
    },
    {
      "cell_type": "markdown",
      "metadata": {
        "id": "iT8lLdr5N7z7"
      },
      "source": [
        "**Multiple imputation (MICE)**\n"
      ]
    },
    {
      "cell_type": "code",
      "metadata": {
        "id": "Be-U9bg4uVmA"
      },
      "source": [
        ""
      ],
      "execution_count": null,
      "outputs": []
    },
    {
      "cell_type": "code",
      "metadata": {
        "id": "r82OeDvEGdVU",
        "outputId": "376cc1f9-cff4-4e07-fc39-bb86e9a1307d",
        "colab": {
          "base_uri": "https://localhost:8080/",
          "height": 355
        }
      },
      "source": [
        "import warnings\n",
        "warnings.filterwarnings('ignore') ## to avoide seeing deprecation warnings\n",
        "M = 2 ## M is number of imputed datasets\n",
        "for m in range(0, M): \n",
        "  imputer = MICE(random_state=m, imputation_order='random').fit(x_train_miss[0:100])\n",
        "  x_train_imputed = imputer.transform(x_train_miss[0:100])\n",
        "  x_test_imputed = imputer.transform(x_test_miss[0:100])\n",
        "  x_test_imputed[x_test_imputed < 0] = 0\n",
        "  print(f\"---STRATEGY : MICE --- (ONLY for 100 images) - dataset{m}\")\n",
        "  print(f\"MSE for train data : {mean_squared_error(x_train_imputed[0:100], x_train[0:100])}\")\n",
        "  print(f\"MSE for test data : {mean_squared_error(x_test_imputed[0:100], x_test[0:100])}\")\n",
        "  fig = plot(x_test_imputed[0:5], 'Dataset{m} MICE') ## plotting 5 images after imputation"
      ],
      "execution_count": null,
      "outputs": [
        {
          "output_type": "stream",
          "text": [
            "---STRATEGY : MICE --- (ONLY for 100 images) - dataset0\n",
            "MSE for train data : 0.006034390039344033\n",
            "MSE for test data : 0.005430787571813423\n",
            "---STRATEGY : MICE --- (ONLY for 100 images) - dataset1\n",
            "MSE for train data : 0.0060161418017817755\n",
            "MSE for test data : 0.005423460761118419\n"
          ],
          "name": "stdout"
        },
        {
          "output_type": "display_data",
          "data": {
            "image/png": "[encoded data removed]",
            "text/plain": [
              "<Figure size 720x720 with 5 Axes>"
            ]
          },
          "metadata": {
            "tags": [],
            "needs_background": "light"
          }
        },
        {
          "output_type": "display_data",
          "data": {
            "image/png": "[encoded data removed]",
            "text/plain": [
              "<Figure size 720x720 with 5 Axes>"
            ]
          },
          "metadata": {
            "tags": [],
            "needs_background": "light"
          }
        }
      ]
    },
    {
      "cell_type": "code",
      "metadata": {
        "id": "vRyAsCnPJbjh"
      },
      "source": [
        ""
      ],
      "execution_count": null,
      "outputs": []
    },
    {
      "cell_type": "markdown",
      "metadata": {
        "id": "lHCs23UalLEF"
      },
      "source": [
        "**Denoising autoencoder**\n",
        "\n"
      ]
    },
    {
      "cell_type": "code",
      "metadata": {
        "id": "Wx9rntu7O30k"
      },
      "source": [
        "def fill_nan_with_noise(data):\n",
        "  X = np.copy(data)\n",
        "  Z = np.random.uniform(0,1,[data.shape[0], data.shape[1]])\n",
        "  mask = np.isnan(data) \n",
        "  X[mask] = Z[mask]\n",
        "  return X"
      ],
      "execution_count": null,
      "outputs": []
    },
    {
      "cell_type": "code",
      "metadata": {
        "id": "4iL27ncymnXh"
      },
      "source": [
        "x_train_imputed_with_noise = fill_nan_with_noise(x_train_miss)\n",
        "x_test_imputed_with_noise = fill_nan_with_noise(x_test_miss)"
      ],
      "execution_count": null,
      "outputs": []
    },
    {
      "cell_type": "code",
      "metadata": {
        "id": "0DRWAHF8nSti"
      },
      "source": [
        "from keras.layers import Dense, Input, LeakyReLU\n",
        "from keras import activations \n",
        "from keras.optimizers import Adam\n",
        "from keras.models import Model, Sequential"
      ],
      "execution_count": null,
      "outputs": []
    },
    {
      "cell_type": "code",
      "metadata": {
        "id": "IgnLVlXen7Zg",
        "outputId": "a7d09cc6-894c-4c00-d03b-adaf1a318d0e",
        "colab": {
          "base_uri": "https://localhost:8080/",
          "height": 374
        }
      },
      "source": [
        "N, D = np.shape(x_train)\n",
        "latent_dim = 2 * D ## it is an overcomplete autoencoder\n",
        "inputs = Input(shape=(D,))\n",
        "encoder = Sequential(\n",
        "    [\n",
        "     Dense(int(D * 1.5), activation=tf.nn.leaky_relu),\n",
        "     Dense(latent_dim)\n",
        "    ]\n",
        ")\n",
        "decoder = Sequential(\n",
        "    [\n",
        "     Dense(int(D * 1.5), activation=tf.nn.leaky_relu),\n",
        "     Dense(D, activation=tf.nn.sigmoid)\n",
        "    ]\n",
        ")\n",
        "\n",
        "denoising_autoencoder = Model(inputs, decoder(encoder(inputs)))\n",
        "denoising_autoencoder.compile(loss='binary_crossentropy', optimizer=Adam(0.001))\n",
        "denoising_autoencoder.fit(x_train_imputed_with_noise, x_train, epochs=10,\n",
        "                          shuffle=True, batch_size=32)"
      ],
      "execution_count": null,
      "outputs": [
        {
          "output_type": "stream",
          "text": [
            "Epoch 1/10\n",
            "1875/1875 [==============================] - 4s 2ms/step - loss: 0.1041\n",
            "Epoch 2/10\n",
            "1875/1875 [==============================] - 5s 2ms/step - loss: 0.0897\n",
            "Epoch 3/10\n",
            "1875/1875 [==============================] - 4s 2ms/step - loss: 0.0867\n",
            "Epoch 4/10\n",
            "1875/1875 [==============================] - 4s 2ms/step - loss: 0.0849\n",
            "Epoch 5/10\n",
            "1875/1875 [==============================] - 4s 2ms/step - loss: 0.0835\n",
            "Epoch 6/10\n",
            "1875/1875 [==============================] - 5s 2ms/step - loss: 0.0825\n",
            "Epoch 7/10\n",
            "1875/1875 [==============================] - 5s 2ms/step - loss: 0.0817\n",
            "Epoch 8/10\n",
            "1875/1875 [==============================] - 5s 3ms/step - loss: 0.0810\n",
            "Epoch 9/10\n",
            "1875/1875 [==============================] - 5s 2ms/step - loss: 0.0805\n",
            "Epoch 10/10\n",
            "1875/1875 [==============================] - 4s 2ms/step - loss: 0.0799\n"
          ],
          "name": "stdout"
        },
        {
          "output_type": "execute_result",
          "data": {
            "text/plain": [
              "<tensorflow.python.keras.callbacks.History at 0x7f8e4a4b8c88>"
            ]
          },
          "metadata": {
            "tags": []
          },
          "execution_count": 65
        }
      ]
    },
    {
      "cell_type": "code",
      "metadata": {
        "id": "KzL-jSR0o7Cy",
        "outputId": "4df5e490-f889-424f-9237-43e7b7178aca",
        "colab": {
          "base_uri": "https://localhost:8080/",
          "height": 321
        }
      },
      "source": [
        "x_train_imputed = denoising_autoencoder.predict(x_train_imputed_with_noise)\n",
        "print(f\"---STRATEGY : denoising autoencoder\")\n",
        "print(f\"MSE for train data : {mean_squared_error(x_train_imputed, x_train)}\")\n",
        "\n",
        "M = 2 ## M is number of imputed datasets\n",
        "for m in range(0, M): \n",
        "  x_test_imputed = denoising_autoencoder.predict(fill_nan_with_noise(x_test_miss))\n",
        "  print(f\"MSE for test data : {mean_squared_error(x_test_imputed, x_test)} (dataset{m})\")\n",
        "  fig = plot(x_test_imputed[0:5], f'Dataset{m} DAE') ## plotting 5 images after imputation"
      ],
      "execution_count": null,
      "outputs": [
        {
          "output_type": "stream",
          "text": [
            "---STRATEGY : denoising autoencoder\n",
            "MSE for train data : 0.0056192156620575\n",
            "MSE for test data : 0.007669679658419718 (dataset0)\n",
            "MSE for test data : 0.007665962952172544 (dataset1)\n"
          ],
          "name": "stdout"
        },
        {
          "output_type": "display_data",
          "data": {
            "image/png": "[encoded data removed]",
            "text/plain": [
              "<Figure size 720x720 with 5 Axes>"
            ]
          },
          "metadata": {
            "tags": [],
            "needs_background": "light"
          }
        },
        {
          "output_type": "display_data",
          "data": {
            "image/png": "[encoded data removed]",
            "text/plain": [
              "<Figure size 720x720 with 5 Axes>"
            ]
          },
          "metadata": {
            "tags": [],
            "needs_background": "light"
          }
        }
      ]
    },
    {
      "cell_type": "code",
      "metadata": {
        "id": "f5-C7dFMzlfJ"
      },
      "source": [
        ""
      ],
      "execution_count": null,
      "outputs": []
    }
  ]
}