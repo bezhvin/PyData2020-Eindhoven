{
  "nbformat": 4,
  "nbformat_minor": 0,
  "metadata": {
    "colab": {
      "name": "PyData_missingdata.ipynb",
      "provenance": [],
      "authorship_tag": "ABX9TyNIua+lvG6Pf6M0zJLpBqQO",
      "include_colab_link": true
    },
    "kernelspec": {
      "name": "python3",
      "display_name": "Python 3"
    },
    "accelerator": "GPU"
  },
  "cells": [
    {
      "cell_type": "markdown",
      "metadata": {
        "id": "view-in-github",
        "colab_type": "text"
      },
      "source": [
        "<a href=\"https://colab.research.google.com/github/bezhvin/PyData2020-Eindhoven/blob/main/PyData_missingdata.ipynb\" target=\"_parent\"><img src=\"https://colab.research.google.com/assets/colab-badge.svg\" alt=\"Open In Colab\"/></a>"
      ]
    },
    {
      "cell_type": "code",
      "metadata": {
        "id": "puR2tIsvhGFM"
      },
      "source": [
        "%tensorflow_version 2.x"
      ],
      "execution_count": 1,
      "outputs": []
    },
    {
      "cell_type": "code",
      "metadata": {
        "id": "m5XU2goxhdeU",
        "outputId": "a479ef53-7553-4217-b505-45b188252cff",
        "colab": {
          "base_uri": "https://localhost:8080/",
          "height": 72
        }
      },
      "source": [
        "import numpy as np\n",
        "import matplotlib.pyplot as plt\n",
        "import matplotlib.gridspec as gridspec\n",
        "import tensorflow as tf\n",
        "from tensorflow import keras\n",
        "from sklearn.experimental import enable_iterative_imputer\n",
        "from sklearn.impute import SimpleImputer, IterativeImputer, KNNImputer\n",
        "from sklearn.metrics import mean_squared_error\n",
        "from sklearn.linear_model import LogisticRegression\n",
        "from sklearn.tree import DecisionTreeRegressor\n",
        "from sklearn.ensemble import ExtraTreesRegressor, RandomForestRegressor\n",
        "from fancyimpute import KNN\n",
        "from fancyimpute import IterativeImputer as MICE"
      ],
      "execution_count": 2,
      "outputs": [
        {
          "output_type": "stream",
          "text": [
            "/usr/local/lib/python3.6/dist-packages/sklearn/externals/six.py:31: FutureWarning: The module is deprecated in version 0.21 and will be removed in version 0.23 since we've dropped support for Python 2.7. Please rely on the official version of six (https://pypi.org/project/six/).\n",
            "  \"(https://pypi.org/project/six/).\", FutureWarning)\n"
          ],
          "name": "stderr"
        }
      ]
    },
    {
      "cell_type": "code",
      "metadata": {
        "id": "grZSg_SqBDer"
      },
      "source": [
        "def plot(samples, strategy=None):\n",
        "    fig = plt.figure(figsize = (10,10))\n",
        "    gs = gridspec.GridSpec(5,5)\n",
        "    gs.update(wspace=0.05, hspace=0.05)\n",
        "    \n",
        "    for i, sample in enumerate(samples):\n",
        "        ax = plt.subplot(gs[i])\n",
        "        plt.axis('off')\n",
        "        ax.set_xticklabels([])\n",
        "        ax.set_yticklabels([])\n",
        "        ax.set_aspect('equal')\n",
        "        plt.imshow(sample.reshape(28,28))\n",
        "    if strategy is not None:\n",
        "      fig.suptitle(f'{strategy} imputation')    \n",
        "    return fig"
      ],
      "execution_count": 8,
      "outputs": []
    },
    {
      "cell_type": "markdown",
      "metadata": {
        "id": "G8pPXOr_jXrj"
      },
      "source": [
        "**Reading and preparing data**\n"
      ]
    },
    {
      "cell_type": "code",
      "metadata": {
        "id": "MPnQCzdGhy4w"
      },
      "source": [
        "(x_train, y_train), (x_test, y_test) = tf.keras.datasets.mnist.load_data(path='mnist.npz')\n",
        "Dim = x_train.shape[1] * x_train.shape[2]\n",
        "x_train=x_train.reshape((x_train.shape[0],Dim))\n",
        "x_train = x_train / x_train.max()\n",
        "x_test=x_test.reshape((x_test.shape[0],Dim))\n",
        "x_test = x_test / x_test.max()"
      ],
      "execution_count": 9,
      "outputs": []
    },
    {
      "cell_type": "markdown",
      "metadata": {
        "id": "_EH3Z8DNkRfU"
      },
      "source": [
        "**Adding missingness randomly**"
      ]
    },
    {
      "cell_type": "code",
      "metadata": {
        "id": "_uwzDgjxkT3D"
      },
      "source": [
        "  def induce_missingness(data, p_missing=0.2):\n",
        "    new_data= np.copy(data)\n",
        "    A = np.random.uniform(0., 1., size = [data.shape[0], data.shape[1]])\n",
        "    B = A < p_missing\n",
        "    new_data[B] = np.nan\n",
        "    return new_data\n",
        "\n",
        "x_train_miss = induce_missingness(x_train)\n",
        "x_test_miss = induce_missingness(x_test)\n"
      ],
      "execution_count": 10,
      "outputs": []
    },
    {
      "cell_type": "code",
      "metadata": {
        "id": "TZiwl5cxl4H_",
        "outputId": "b3f7d755-99ab-4383-aca9-a6b94d2d247a",
        "colab": {
          "base_uri": "https://localhost:8080/",
          "height": 253
        }
      },
      "source": [
        "## how image would look like after imposing 20% missingness\n",
        "fig = plot(x_test[0:5])\n",
        "fig = plot(x_test_miss[0:5])"
      ],
      "execution_count": 12,
      "outputs": [
        {
          "output_type": "display_data",
          "data": {
            "image/png": "[encoded data removed]",
            "text/plain": [
              "<Figure size 720x720 with 5 Axes>"
            ]
          },
          "metadata": {
            "tags": [],
            "needs_background": "light"
          }
        },
        {
          "output_type": "display_data",
          "data": {
            "image/png": "[encoded data removed]",
            "text/plain": [
              "<Figure size 720x720 with 5 Axes>"
            ]
          },
          "metadata": {
            "tags": [],
            "needs_background": "light"
          }
        }
      ]
    },
    {
      "cell_type": "markdown",
      "metadata": {
        "id": "3ROAt-AHDGa-"
      },
      "source": [
        "## **Single imputation**"
      ]
    },
    {
      "cell_type": "markdown",
      "metadata": {
        "id": "YxPx7v78Isws"
      },
      "source": [
        "Mean and Median"
      ]
    },
    {
      "cell_type": "code",
      "metadata": {
        "id": "eu9cSf0Fm8ne",
        "outputId": "8688a8ff-260d-41b7-bf1f-adeff6d6b7f8",
        "colab": {
          "base_uri": "https://localhost:8080/",
          "height": 501
        }
      },
      "source": [
        "for strategy in ('mean', 'median'):\n",
        "  imputer = SimpleImputer(missing_values=np.nan, strategy=strategy).fit(x_train_miss)\n",
        "  x_train_imputed = imputer.transform(x_train_miss)\n",
        "  x_test_imputed = imputer.transform(x_test_miss)\n",
        "  print(f\"---STRATEGY : {strategy} ---\")\n",
        "  print(f\"MSE for train data : {mean_squared_error(x_train_imputed, x_train)}\")\n",
        "  print(f\"MSE for test data : {mean_squared_error(x_test_imputed, x_test)}\")\n",
        "  fig = plot(x_test_imputed[0:5], strategy) ## plotting 5 images after imputation "
      ],
      "execution_count": 13,
      "outputs": [
        {
          "output_type": "stream",
          "text": [
            "---STRATEGY : mean ---\n",
            "MSE for train data : 0.013447442857751887\n",
            "MSE for test data : 0.013544010746408475\n",
            "---STRATEGY : median ---\n",
            "MSE for train data : 0.017376949169210166\n",
            "MSE for test data : 0.01764559307987901\n"
          ],
          "name": "stdout"
        },
        {
          "output_type": "display_data",
          "data": {
            "image/png": "[encoded data removed]",
            "text/plain": [
              "<Figure size 720x720 with 5 Axes>"
            ]
          },
          "metadata": {
            "tags": [],
            "needs_background": "light"
          }
        },
        {
          "output_type": "display_data",
          "data": {
            "image/png": "[encoded data removed]",
            "text/plain": [
              "<Figure size 720x720 with 5 Axes>"
            ]
          },
          "metadata": {
            "tags": [],
            "needs_background": "light"
          }
        }
      ]
    },
    {
      "cell_type": "markdown",
      "metadata": {
        "id": "T_ZFko1ID3Uk"
      },
      "source": [
        "*KNN imputation (only first 100 images to get fast computation)*\n"
      ]
    },
    {
      "cell_type": "code",
      "metadata": {
        "id": "8YYdPklwBb12",
        "outputId": "77d34beb-8307-43d5-b404-cc02b69f31f0",
        "colab": {
          "base_uri": "https://localhost:8080/",
          "height": 186
        }
      },
      "source": [
        "imputer = KNNImputer(n_neighbors=5, weights='uniform').fit(x_train_miss[0:100]) ## playing with the hyperparameters result in differnt outputs\n",
        "x_train_imputed = imputer.transform(x_train_miss[0:100])\n",
        "x_test_imputed = imputer.transform(x_test_miss[0:100])\n",
        "print(f\"---STRATEGY : KNN --- (ONLY for 100 images)\")\n",
        "print(f\"MSE for train data : {mean_squared_error(x_train_imputed[0:100], x_train[0:100])}\")\n",
        "print(f\"MSE for test data : {mean_squared_error(x_test_imputed[0:100], x_test[0:100])}\")\n",
        "fig = plot(x_test_imputed[0:5], 'KNN') ## plotting 5 images after imputation "
      ],
      "execution_count": null,
      "outputs": [
        {
          "output_type": "stream",
          "text": [
            "---STRATEGY : KNN --- (ONLY for 100 images)\n",
            "MSE for train data : 0.00813462552864283\n",
            "MSE for test data : 0.009391225235192115\n"
          ],
          "name": "stdout"
        },
        {
          "output_type": "display_data",
          "data": {
            "image/png": "[encoded data removed]",
            "text/plain": [
              "<Figure size 720x720 with 5 Axes>"
            ]
          },
          "metadata": {
            "tags": [],
            "needs_background": "light"
          }
        }
      ]
    },
    {
      "cell_type": "markdown",
      "metadata": {
        "id": "iT8lLdr5N7z7"
      },
      "source": [
        "## **Multiple imputation**\n"
      ]
    },
    {
      "cell_type": "markdown",
      "metadata": {
        "id": "yZWbwzaaJKXO"
      },
      "source": [
        "MICE"
      ]
    },
    {
      "cell_type": "code",
      "metadata": {
        "id": "r82OeDvEGdVU",
        "outputId": "2c8e4133-1d10-44d0-ab18-c423b0b52a5b",
        "colab": {
          "base_uri": "https://localhost:8080/",
          "height": 501
        }
      },
      "source": [
        "import warnings\n",
        "warnings.filterwarnings('ignore') ## to avoide seeing deprecation warnings\n",
        "### MICE is also very slow with high dimensional data\n",
        "### so here we only looked at 100 images for the sake of speed\n",
        "M = 2 ## M is the number of imputed datasets\n",
        "for m in range(0, M): \n",
        "  imputer = MICE(random_state=m, imputation_order='random').fit(x_train_miss[0:100])\n",
        "  x_train_imputed = imputer.transform(x_train_miss[0:100])\n",
        "  x_test_imputed = imputer.transform(x_test_miss[0:100])\n",
        "  print(f\"---STRATEGY : MICE --- (ONLY for 100 images) - dataset{m}\")\n",
        "  print(f\"MSE for train data : {mean_squared_error(x_train_imputed[0:100], x_train[0:100])}\")\n",
        "  print(f\"MSE for test data : {mean_squared_error(x_test_imputed[0:100], x_test[0:100])}\")\n",
        "  fig = plot(x_test_imputed[0:5], f'Dataset{m} MICE') ## plotting 5 images after imputation"
      ],
      "execution_count": 21,
      "outputs": [
        {
          "output_type": "stream",
          "text": [
            "---STRATEGY : MICE --- (ONLY for 100 images) - dataset0\n",
            "MSE for train data : 0.006002659942671736\n",
            "MSE for test data : 0.0060470973658871075\n",
            "---STRATEGY : MICE --- (ONLY for 100 images) - dataset1\n",
            "MSE for train data : 0.005999110585084201\n",
            "MSE for test data : 0.006048888083888194\n"
          ],
          "name": "stdout"
        },
        {
          "output_type": "display_data",
          "data": {
            "image/png": "[encoded data removed]",
            "text/plain": [
              "<Figure size 720x720 with 5 Axes>"
            ]
          },
          "metadata": {
            "tags": [],
            "needs_background": "light"
          }
        },
        {
          "output_type": "display_data",
          "data": {
            "image/png": "[encoded data removed]",
            "text/plain": [
              "<Figure size 720x720 with 5 Axes>"
            ]
          },
          "metadata": {
            "tags": [],
            "needs_background": "light"
          }
        }
      ]
    },
    {
      "cell_type": "markdown",
      "metadata": {
        "id": "lHCs23UalLEF"
      },
      "source": [
        "*Denoising autoencoder*\n",
        "\n"
      ]
    },
    {
      "cell_type": "code",
      "metadata": {
        "id": "Wx9rntu7O30k"
      },
      "source": [
        "def fill_nan_with_noise(data): ## missing entries are filled in with random noise\n",
        "  X = np.copy(data)\n",
        "  Z = np.random.uniform(0,1,[data.shape[0], data.shape[1]])\n",
        "  mask = np.isnan(data) \n",
        "  X[mask] = Z[mask]\n",
        "  return X"
      ],
      "execution_count": 16,
      "outputs": []
    },
    {
      "cell_type": "code",
      "metadata": {
        "id": "4iL27ncymnXh"
      },
      "source": [
        "x_train_imputed_with_noise = fill_nan_with_noise(x_train_miss)\n",
        "x_test_imputed_with_noise = fill_nan_with_noise(x_test_miss)"
      ],
      "execution_count": 17,
      "outputs": []
    },
    {
      "cell_type": "code",
      "metadata": {
        "id": "0DRWAHF8nSti"
      },
      "source": [
        "from keras.layers import Dense, Input, LeakyReLU\n",
        "from keras import activations \n",
        "from keras.optimizers import Adam\n",
        "from keras.models import Model, Sequential"
      ],
      "execution_count": 19,
      "outputs": []
    },
    {
      "cell_type": "code",
      "metadata": {
        "id": "IgnLVlXen7Zg",
        "outputId": "dcc6b2f7-adad-458b-9f88-d6b150d4e839",
        "colab": {
          "base_uri": "https://localhost:8080/",
          "height": 381
        }
      },
      "source": [
        "## An overcomlete autoencoder is structured here; noting that hyperparameters can be changed to get different results.\n",
        "N, D = np.shape(x_train)\n",
        "latent_dim = 2 * D ## it is an overcomplete autoencoder\n",
        "inputs = Input(shape=(D,))\n",
        "encoder = Sequential(\n",
        "    [\n",
        "     Dense(int(D * 1.5), activation=tf.nn.leaky_relu),\n",
        "     Dense(latent_dim)\n",
        "    ]\n",
        ")\n",
        "decoder = Sequential(\n",
        "    [\n",
        "     Dense(int(D * 1.5), activation=tf.nn.leaky_relu),\n",
        "     Dense(D, activation=tf.nn.sigmoid)\n",
        "    ]\n",
        ")\n",
        "\n",
        "denoising_autoencoder = Model(inputs, decoder(encoder(inputs)))\n",
        "denoising_autoencoder.compile(loss='binary_crossentropy', optimizer=Adam(0.001))\n",
        "denoising_autoencoder.fit(x_train_imputed_with_noise, x_train, epochs=10,\n",
        "                          shuffle=True, batch_size=32)"
      ],
      "execution_count": 20,
      "outputs": [
        {
          "output_type": "stream",
          "text": [
            "Epoch 1/10\n",
            "1875/1875 [==============================] - 5s 2ms/step - loss: 0.1042\n",
            "Epoch 2/10\n",
            "1875/1875 [==============================] - 5s 2ms/step - loss: 0.0898\n",
            "Epoch 3/10\n",
            "1875/1875 [==============================] - 5s 2ms/step - loss: 0.0868\n",
            "Epoch 4/10\n",
            "1875/1875 [==============================] - 5s 2ms/step - loss: 0.0849\n",
            "Epoch 5/10\n",
            "1875/1875 [==============================] - 5s 2ms/step - loss: 0.0836\n",
            "Epoch 6/10\n",
            "1875/1875 [==============================] - 5s 2ms/step - loss: 0.0825\n",
            "Epoch 7/10\n",
            "1875/1875 [==============================] - 5s 2ms/step - loss: 0.0817\n",
            "Epoch 8/10\n",
            "1875/1875 [==============================] - 5s 2ms/step - loss: 0.0810\n",
            "Epoch 9/10\n",
            "1875/1875 [==============================] - 5s 2ms/step - loss: 0.0804\n",
            "Epoch 10/10\n",
            "1875/1875 [==============================] - 5s 2ms/step - loss: 0.0800\n"
          ],
          "name": "stdout"
        },
        {
          "output_type": "execute_result",
          "data": {
            "text/plain": [
              "<tensorflow.python.keras.callbacks.History at 0x7ff7800bfe80>"
            ]
          },
          "metadata": {
            "tags": []
          },
          "execution_count": 20
        }
      ]
    },
    {
      "cell_type": "code",
      "metadata": {
        "id": "KzL-jSR0o7Cy",
        "outputId": "0e6ec0a6-66c9-4941-807b-846a81a04c34",
        "colab": {
          "base_uri": "https://localhost:8080/",
          "height": 467
        }
      },
      "source": [
        "x_train_imputed = denoising_autoencoder.predict(x_train_imputed_with_noise)\n",
        "print(f\"---STRATEGY : denoising autoencoder\")\n",
        "print(f\"MSE for train data : {mean_squared_error(x_train_imputed, x_train)}\")\n",
        "\n",
        "M = 2 ## M is number of imputed datasets\n",
        "for m in range(0, M): \n",
        "  x_test_imputed = denoising_autoencoder.predict(fill_nan_with_noise(x_test_miss))\n",
        "  print(f\"MSE for test data : {mean_squared_error(x_test_imputed, x_test)} (dataset{m})\")\n",
        "  fig = plot(x_test_imputed[0:5], f'Dataset{m} DAE') ## plotting 5 images after imputation"
      ],
      "execution_count": 22,
      "outputs": [
        {
          "output_type": "stream",
          "text": [
            "---STRATEGY : denoising autoencoder\n",
            "MSE for train data : 0.005596091701406396\n",
            "MSE for test data : 0.007672137608201405 (dataset0)\n",
            "MSE for test data : 0.007673921068934154 (dataset1)\n"
          ],
          "name": "stdout"
        },
        {
          "output_type": "display_data",
          "data": {
            "image/png": "[encoded data removed]",
            "text/plain": [
              "<Figure size 720x720 with 5 Axes>"
            ]
          },
          "metadata": {
            "tags": [],
            "needs_background": "light"
          }
        },
        {
          "output_type": "display_data",
          "data": {
            "image/png": "[encoded data removed]",
            "text/plain": [
              "<Figure size 720x720 with 5 Axes>"
            ]
          },
          "metadata": {
            "tags": [],
            "needs_background": "light"
          }
        }
      ]
    }
  ]
}
